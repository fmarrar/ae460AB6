{
 "cells": [
  {
   "cell_type": "code",
   "execution_count": 1,
   "id": "52decf4b-dad3-47c2-aa62-5898d65ae32e",
   "metadata": {},
   "outputs": [],
   "source": [
    "import numpy as np\n",
    "import pandas as pd\n",
    "import matplotlib.pyplot as plt"
   ]
  },
  {
   "cell_type": "code",
   "execution_count": 2,
   "id": "3dd90606-f807-4edf-9a59-b68d2fcfeb18",
   "metadata": {},
   "outputs": [],
   "source": [
    "def load_data(filename, nrows=None):\n",
    "    if nrows is None:\n",
    "        data = pd.read_csv(filename, sep=',', header=None, skiprows=4, usecols=[0,5])\n",
    "    else:\n",
    "        data = pd.read_csv(filename, sep=',', header=None, skiprows=4, nrows=nrows, usecols=[1,5])\n",
    "    return data"
   ]
  },
  {
   "cell_type": "code",
   "execution_count": 3,
   "id": "bcd515ba-e263-4b9b-b371-afde4eb54581",
   "metadata": {},
   "outputs": [
    {
     "data": {
      "text/html": [
       "<div>\n",
       "<style scoped>\n",
       "    .dataframe tbody tr th:only-of-type {\n",
       "        vertical-align: middle;\n",
       "    }\n",
       "\n",
       "    .dataframe tbody tr th {\n",
       "        vertical-align: top;\n",
       "    }\n",
       "\n",
       "    .dataframe thead th {\n",
       "        text-align: right;\n",
       "    }\n",
       "</style>\n",
       "<table border=\"1\" class=\"dataframe\">\n",
       "  <thead>\n",
       "    <tr style=\"text-align: right;\">\n",
       "      <th></th>\n",
       "      <th>0</th>\n",
       "      <th>5</th>\n",
       "    </tr>\n",
       "  </thead>\n",
       "  <tbody>\n",
       "    <tr>\n",
       "      <th>0</th>\n",
       "      <td>Alpha</td>\n",
       "      <td>0.00000</td>\n",
       "    </tr>\n",
       "    <tr>\n",
       "      <th>1</th>\n",
       "      <td>AnalysisMethod</td>\n",
       "      <td>NaN</td>\n",
       "    </tr>\n",
       "    <tr>\n",
       "      <th>2</th>\n",
       "      <td>Beta</td>\n",
       "      <td>0.00000</td>\n",
       "    </tr>\n",
       "    <tr>\n",
       "      <th>3</th>\n",
       "      <td>CDi</td>\n",
       "      <td>-0.00001</td>\n",
       "    </tr>\n",
       "    <tr>\n",
       "      <th>4</th>\n",
       "      <td>CDo</td>\n",
       "      <td>0.04516</td>\n",
       "    </tr>\n",
       "    <tr>\n",
       "      <th>...</th>\n",
       "      <td>...</td>\n",
       "      <td>...</td>\n",
       "    </tr>\n",
       "    <tr>\n",
       "      <th>4056</th>\n",
       "      <td>Cmz</td>\n",
       "      <td>NaN</td>\n",
       "    </tr>\n",
       "    <tr>\n",
       "      <th>4057</th>\n",
       "      <td>Comp_ID</td>\n",
       "      <td>NaN</td>\n",
       "    </tr>\n",
       "    <tr>\n",
       "      <th>4058</th>\n",
       "      <td>Comp_Name</td>\n",
       "      <td>NaN</td>\n",
       "    </tr>\n",
       "    <tr>\n",
       "      <th>4059</th>\n",
       "      <td>Cs</td>\n",
       "      <td>NaN</td>\n",
       "    </tr>\n",
       "    <tr>\n",
       "      <th>4060</th>\n",
       "      <td>Mach</td>\n",
       "      <td>NaN</td>\n",
       "    </tr>\n",
       "  </tbody>\n",
       "</table>\n",
       "<p>4061 rows × 2 columns</p>\n",
       "</div>"
      ],
      "text/plain": [
       "                   0        5\n",
       "0              Alpha  0.00000\n",
       "1     AnalysisMethod      NaN\n",
       "2               Beta  0.00000\n",
       "3                CDi -0.00001\n",
       "4                CDo  0.04516\n",
       "...              ...      ...\n",
       "4056             Cmz      NaN\n",
       "4057         Comp_ID      NaN\n",
       "4058       Comp_Name      NaN\n",
       "4059              Cs      NaN\n",
       "4060            Mach      NaN\n",
       "\n",
       "[4061 rows x 2 columns]"
      ]
     },
     "execution_count": 3,
     "metadata": {},
     "output_type": "execute_result"
    }
   ],
   "source": [
    "df = load_data('50k_data_3.csv')\n",
    "df"
   ]
  },
  {
   "cell_type": "code",
   "execution_count": 6,
   "id": "2bce8a76-bfff-4e93-b34b-5e20dd0f71f4",
   "metadata": {},
   "outputs": [
    {
     "name": "stdout",
     "output_type": "stream",
     "text": [
      "41\n"
     ]
    },
    {
     "data": {
      "text/plain": [
       "[-0.00053,\n",
       " 0.04139,\n",
       " 0.08325,\n",
       " 0.125,\n",
       " 0.16661,\n",
       " 0.2081,\n",
       " 0.24956,\n",
       " 0.29081,\n",
       " 0.33166,\n",
       " 0.37266,\n",
       " 0.41347,\n",
       " 0.45406,\n",
       " 0.49357,\n",
       " 0.53322,\n",
       " 0.57686,\n",
       " 0.61964,\n",
       " 0.66258,\n",
       " 0.70559,\n",
       " 0.74852,\n",
       " 0.79081,\n",
       " 0.83328,\n",
       " 0.87565,\n",
       " 0.918,\n",
       " 0.96071,\n",
       " 1.00314,\n",
       " 1.04496,\n",
       " 1.08779,\n",
       " 1.1297,\n",
       " 1.17229,\n",
       " 1.21453,\n",
       " 1.25689,\n",
       " 1.29897,\n",
       " 1.34112,\n",
       " 1.38328,\n",
       " 1.42565,\n",
       " 1.46769,\n",
       " 1.50968,\n",
       " 1.55181,\n",
       " 1.59352,\n",
       " 1.63521,\n",
       " 0.16661,\n",
       " nan,\n",
       " nan,\n",
       " nan,\n",
       " nan,\n",
       " nan,\n",
       " nan,\n",
       " nan,\n",
       " nan,\n",
       " nan,\n",
       " nan,\n",
       " nan,\n",
       " nan,\n",
       " nan,\n",
       " nan,\n",
       " nan,\n",
       " nan,\n",
       " nan,\n",
       " nan,\n",
       " nan,\n",
       " nan,\n",
       " nan,\n",
       " nan,\n",
       " nan,\n",
       " nan,\n",
       " nan,\n",
       " nan,\n",
       " nan,\n",
       " nan,\n",
       " nan,\n",
       " nan,\n",
       " nan,\n",
       " nan,\n",
       " nan,\n",
       " nan,\n",
       " nan,\n",
       " nan,\n",
       " nan,\n",
       " nan,\n",
       " nan,\n",
       " nan]"
      ]
     },
     "execution_count": 6,
     "metadata": {},
     "output_type": "execute_result"
    }
   ],
   "source": [
    "realData = pd.DataFrame(data=None, columns = [])\n",
    "lenAlpha = len(df.loc[df[0] == 'Alpha'][5].values[:].tolist())\n",
    "print(lenAlpha)\n",
    "realData['Alpha'] = df.loc[df[0] == 'Alpha'][5].values[:].tolist()\n",
    "df.loc[df[0] == 'CL'][5].values[:].tolist()[0:]\n",
    "#realData['CL'] = df.loc[df[0] == 'CL'][5].values[:].tolist()\n",
    "#realData['CDtot'] = df.loc[df[0] == 'CDtot'][5].values[:].tolist()"
   ]
  },
  {
   "cell_type": "code",
   "execution_count": 52,
   "id": "30e75dfe-d0d3-4380-9922-4d9963fa08c7",
   "metadata": {},
   "outputs": [
    {
     "data": {
      "text/plain": [
       "[<matplotlib.lines.Line2D at 0x249fc399e20>]"
      ]
     },
     "execution_count": 52,
     "metadata": {},
     "output_type": "execute_result"
    },
    {
     "data": {
      "image/png": "[encoded data removed]",
      "text/plain": [
       "<Figure size 432x288 with 1 Axes>"
      ]
     },
     "metadata": {
      "needs_background": "light"
     },
     "output_type": "display_data"
    }
   ],
   "source": [
    "plt.plot(np.degrees(realData['Alpha']), realData['CL'], '.')"
   ]
  },
  {
   "cell_type": "code",
   "execution_count": null,
   "id": "c5a16ece-7237-437f-8fcb-ec1da9b04fd0",
   "metadata": {},
   "outputs": [],
   "source": []
  }
 ],
 "metadata": {
  "kernelspec": {
   "display_name": "Python 3.8 (XPython)",
   "language": "python",
   "name": "xpython"
  },
  "language_info": {
   "file_extension": ".py",
   "mimetype": "text/x-python",
   "name": "python",
   "version": "3.8.10"
  }
 },
 "nbformat": 4,
 "nbformat_minor": 5
}
