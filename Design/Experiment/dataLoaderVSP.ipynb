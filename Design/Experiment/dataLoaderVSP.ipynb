{
 "cells": [
  {
   "cell_type": "code",
   "execution_count": 25,
   "id": "52decf4b-dad3-47c2-aa62-5898d65ae32e",
   "metadata": {},
   "outputs": [],
   "source": [
    "import numpy as np\n",
    "import pandas as pd\n",
    "import matplotlib.pyplot as plt"
   ]
  },
  {
   "cell_type": "code",
   "execution_count": 26,
   "id": "3dd90606-f807-4edf-9a59-b68d2fcfeb18",
   "metadata": {},
   "outputs": [],
   "source": [
    "def load_data2(filename, nrows=None):\n",
    "    if nrows is None:\n",
    "        data = pd.read_csv(filename, sep=',', header=None, skiprows=4, usecols=[0,5])\n",
    "    else:\n",
    "        data = pd.read_csv(filename, sep=',', header=None, skiprows=4, nrows=nrows, usecols=[1,5])\n",
    "    return data"
   ]
  },
  {
   "cell_type": "code",
   "execution_count": 37,
   "id": "bcd515ba-e263-4b9b-b371-afde4eb54581",
   "metadata": {},
   "outputs": [
    {
     "data": {
      "text/html": [
       "<div>\n",
       "<style scoped>\n",
       "    .dataframe tbody tr th:only-of-type {\n",
       "        vertical-align: middle;\n",
       "    }\n",
       "\n",
       "    .dataframe tbody tr th {\n",
       "        vertical-align: top;\n",
       "    }\n",
       "\n",
       "    .dataframe thead th {\n",
       "        text-align: right;\n",
       "    }\n",
       "</style>\n",
       "<table border=\"1\" class=\"dataframe\">\n",
       "  <thead>\n",
       "    <tr style=\"text-align: right;\">\n",
       "      <th></th>\n",
       "      <th>0</th>\n",
       "      <th>5</th>\n",
       "    </tr>\n",
       "  </thead>\n",
       "  <tbody>\n",
       "    <tr>\n",
       "      <th>0</th>\n",
       "      <td>Alpha</td>\n",
       "      <td>0.00000</td>\n",
       "    </tr>\n",
       "    <tr>\n",
       "      <th>1</th>\n",
       "      <td>AnalysisMethod</td>\n",
       "      <td>NaN</td>\n",
       "    </tr>\n",
       "    <tr>\n",
       "      <th>2</th>\n",
       "      <td>Beta</td>\n",
       "      <td>0.00000</td>\n",
       "    </tr>\n",
       "    <tr>\n",
       "      <th>3</th>\n",
       "      <td>CDi</td>\n",
       "      <td>-0.00001</td>\n",
       "    </tr>\n",
       "    <tr>\n",
       "      <th>4</th>\n",
       "      <td>CDo</td>\n",
       "      <td>0.06700</td>\n",
       "    </tr>\n",
       "    <tr>\n",
       "      <th>...</th>\n",
       "      <td>...</td>\n",
       "      <td>...</td>\n",
       "    </tr>\n",
       "    <tr>\n",
       "      <th>1554</th>\n",
       "      <td>T/QS</td>\n",
       "      <td>0.15731</td>\n",
       "    </tr>\n",
       "    <tr>\n",
       "      <th>1555</th>\n",
       "      <td>WakeIter</td>\n",
       "      <td>5.00000</td>\n",
       "    </tr>\n",
       "    <tr>\n",
       "      <th>1556</th>\n",
       "      <td>Results_Name</td>\n",
       "      <td>NaN</td>\n",
       "    </tr>\n",
       "    <tr>\n",
       "      <th>1557</th>\n",
       "      <td>Results_Timestamp</td>\n",
       "      <td>NaN</td>\n",
       "    </tr>\n",
       "    <tr>\n",
       "      <th>1558</th>\n",
       "      <td>Results_Date</td>\n",
       "      <td>NaN</td>\n",
       "    </tr>\n",
       "  </tbody>\n",
       "</table>\n",
       "<p>1559 rows × 2 columns</p>\n",
       "</div>"
      ],
      "text/plain": [
       "                      0        5\n",
       "0                 Alpha  0.00000\n",
       "1        AnalysisMethod      NaN\n",
       "2                  Beta  0.00000\n",
       "3                   CDi -0.00001\n",
       "4                   CDo  0.06700\n",
       "...                 ...      ...\n",
       "1554               T/QS  0.15731\n",
       "1555           WakeIter  5.00000\n",
       "1556       Results_Name      NaN\n",
       "1557  Results_Timestamp      NaN\n",
       "1558       Results_Date      NaN\n",
       "\n",
       "[1559 rows x 2 columns]"
      ]
     },
     "execution_count": 37,
     "metadata": {},
     "output_type": "execute_result"
    }
   ],
   "source": [
    "df = load_data('10k_data.csv')\n",
    "df"
   ]
  },
  {
   "cell_type": "code",
   "execution_count": 38,
   "id": "2bce8a76-bfff-4e93-b34b-5e20dd0f71f4",
   "metadata": {},
   "outputs": [
    {
     "name": "stdout",
     "output_type": "stream",
     "text": [
      "40\n"
     ]
    }
   ],
   "source": [
    "vspData = pd.DataFrame(data=None, columns = [])\n",
    "lenAlpha = len(df.loc[df[0] == 'Alpha'][5].values[:].tolist())\n",
    "print(lenAlpha)  #truncates alpha values \n",
    "vspData['Alpha'] = df.loc[df[0] == 'Alpha'][5].values[:].tolist()\n",
    "vspData['CL'] = df.loc[df[0] == 'CL'][5].values[:].tolist()[0:lenAlpha]\n",
    "vspData['CDtot'] = df.loc[df[0] == 'CDtot'][5].values[:].tolist()[0:lenAlpha]\n",
    "vspData['CMy'] = df.loc[df[0] == 'CMy'][5].values[:].tolist()[0:lenAlpha]\n",
    "vspData['L/D'] = df.loc[df[0] == 'L/D'][5].values[:].tolist()[0:lenAlpha]\n",
    "#realData"
   ]
  },
  {
   "cell_type": "code",
   "execution_count": 29,
   "id": "30e75dfe-d0d3-4380-9922-4d9963fa08c7",
   "metadata": {},
   "outputs": [
    {
     "data": {
      "text/plain": [
       "[<matplotlib.lines.Line2D at 0x1f900128490>]"
      ]
     },
     "execution_count": 29,
     "metadata": {},
     "output_type": "execute_result"
    },
    {
     "data": {
      "image/png": "[encoded data removed]",
      "text/plain": [
       "<Figure size 432x288 with 1 Axes>"
      ]
     },
     "metadata": {
      "needs_background": "light"
     },
     "output_type": "display_data"
    }
   ],
   "source": [
    "plt.plot(vspData['Alpha'], vspData['CL'], '.')"
   ]
  },
  {
   "cell_type": "code",
   "execution_count": 23,
   "id": "c5a16ece-7237-437f-8fcb-ec1da9b04fd0",
   "metadata": {},
   "outputs": [
    {
     "data": {
      "text/plain": [
       "[<matplotlib.lines.Line2D at 0x1f900058d00>]"
      ]
     },
     "execution_count": 23,
     "metadata": {},
     "output_type": "execute_result"
    },
    {
     "data": {
      "image/png": "[encoded data removed]",
      "text/plain": [
       "<Figure size 432x288 with 1 Axes>"
      ]
     },
     "metadata": {
      "needs_background": "light"
     },
     "output_type": "display_data"
    }
   ],
   "source": [
    "plt.plot(vspData['Alpha'], vspData['CDtot'], '.')"
   ]
  },
  {
   "cell_type": "code",
   "execution_count": 24,
   "id": "dafdebf9-f949-4359-8ea5-8d0f820cf6c7",
   "metadata": {},
   "outputs": [
    {
     "data": {
      "text/plain": [
       "[<matplotlib.lines.Line2D at 0x1f9000c8130>]"
      ]
     },
     "execution_count": 24,
     "metadata": {},
     "output_type": "execute_result"
    },
    {
     "data": {
      "image/png": "[encoded data removed]",
      "text/plain": [
       "<Figure size 432x288 with 1 Axes>"
      ]
     },
     "metadata": {
      "needs_background": "light"
     },
     "output_type": "display_data"
    }
   ],
   "source": [
    "plt.plot(vspData['Alpha'], vspData['CMy'], '.')"
   ]
  },
  {
   "cell_type": "code",
   "execution_count": null,
   "id": "8eed52da-0bf9-4cd7-9fbd-f8080564a324",
   "metadata": {},
   "outputs": [],
   "source": []
  }
 ],
 "metadata": {
  "kernelspec": {
   "display_name": "Python 3",
   "language": "python",
   "name": "python3"
  },
  "language_info": {
   "codemirror_mode": {
    "name": "ipython",
    "version": 3
   },
   "file_extension": ".py",
   "mimetype": "text/x-python",
   "name": "python",
   "nbconvert_exporter": "python",
   "pygments_lexer": "ipython3",
   "version": "3.8.8"
  }
 },
 "nbformat": 4,
 "nbformat_minor": 5
}
