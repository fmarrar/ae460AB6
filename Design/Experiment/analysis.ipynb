{
 "cells": [
  {
   "cell_type": "code",
   "execution_count": 1,
   "id": "efbe7d28",
   "metadata": {},
   "outputs": [],
   "source": [
    "import numpy as np\n",
    "import pandas as pd\n",
    "import matplotlib.pyplot as plt"
   ]
  },
  {
   "cell_type": "code",
   "execution_count": 2,
   "id": "741cb2e0",
   "metadata": {},
   "outputs": [],
   "source": [
    "# Define constants\n",
    "W = 0.2108\n",
    "M0 = 0.87539\n",
    "arm = M0/W\n",
    "L = 14/9/12\n",
    "LT = 4.25/12 # wing to hstab length (quarter chord to quarted chord) (approx vstab too hence LT for entire tail)\n",
    "Sh = 3/144\n",
    "AR = 5\n",
    "b = 7.5/12\n",
    "S = b**2/AR\n",
    "Vh = Sh*LT/S/L"
   ]
  },
  {
   "cell_type": "code",
   "execution_count": 3,
   "id": "84135e5d",
   "metadata": {},
   "outputs": [],
   "source": [
    "def load_data(filename, nrows=None):\n",
    "    if nrows is None:\n",
    "        data = pd.read_csv(filename, sep=',', header=None, skiprows=6, usecols=[7,8,9,10,11,12,13,14])\n",
    "    else:\n",
    "        data = pd.read_csv(filename, sep=',', header=None, skiprows=6, nrows=nrows, usecols=[7,8,9,10,11,12,13,14])\n",
    "    data.columns = ['rpm', 'alpha', 'q', 'u', 'Re', 'A', 'N', 'M']\n",
    "    data['alpha'] *= np.pi/180\n",
    "    data['A'] -= W*np.sin(data['alpha'])\n",
    "    data['N'] += W*np.cos(data['alpha'])\n",
    "    data['M'] += M0*np.cos(data['alpha'])\n",
    "    data['L'] = data['N']*np.cos(data['alpha']) - data['A']*np.sin(data['alpha'])\n",
    "    data['D'] = data['N']*np.sin(data['alpha']) + data['A']*np.cos(data['alpha'])\n",
    "    return data"
   ]
  },
  {
   "cell_type": "code",
   "execution_count": 4,
   "id": "be5cc85a",
   "metadata": {},
   "outputs": [
    {
     "data": {
      "text/html": [
       "<div>\n",
       "<style scoped>\n",
       "    .dataframe tbody tr th:only-of-type {\n",
       "        vertical-align: middle;\n",
       "    }\n",
       "\n",
       "    .dataframe tbody tr th {\n",
       "        vertical-align: top;\n",
       "    }\n",
       "\n",
       "    .dataframe thead th {\n",
       "        text-align: right;\n",
       "    }\n",
       "</style>\n",
       "<table border=\"1\" class=\"dataframe\">\n",
       "  <thead>\n",
       "    <tr style=\"text-align: right;\">\n",
       "      <th></th>\n",
       "      <th>rpm</th>\n",
       "      <th>alpha</th>\n",
       "      <th>q</th>\n",
       "      <th>u</th>\n",
       "      <th>Re</th>\n",
       "      <th>A</th>\n",
       "      <th>N</th>\n",
       "      <th>M</th>\n",
       "      <th>L</th>\n",
       "      <th>D</th>\n",
       "    </tr>\n",
       "  </thead>\n",
       "  <tbody>\n",
       "    <tr>\n",
       "      <th>0</th>\n",
       "      <td>187.0</td>\n",
       "      <td>0.000090</td>\n",
       "      <td>0.001109</td>\n",
       "      <td>11.875611</td>\n",
       "      <td>9171.262695</td>\n",
       "      <td>-0.000600</td>\n",
       "      <td>0.004748</td>\n",
       "      <td>-0.004035</td>\n",
       "      <td>0.004748</td>\n",
       "      <td>-0.000600</td>\n",
       "    </tr>\n",
       "    <tr>\n",
       "      <th>1</th>\n",
       "      <td>187.0</td>\n",
       "      <td>0.034769</td>\n",
       "      <td>0.001127</td>\n",
       "      <td>11.970559</td>\n",
       "      <td>9244.587891</td>\n",
       "      <td>-0.006210</td>\n",
       "      <td>0.007618</td>\n",
       "      <td>-0.000989</td>\n",
       "      <td>0.007829</td>\n",
       "      <td>-0.005942</td>\n",
       "    </tr>\n",
       "    <tr>\n",
       "      <th>2</th>\n",
       "      <td>187.0</td>\n",
       "      <td>0.069895</td>\n",
       "      <td>0.001124</td>\n",
       "      <td>11.951912</td>\n",
       "      <td>9230.187500</td>\n",
       "      <td>0.002692</td>\n",
       "      <td>0.009280</td>\n",
       "      <td>0.000125</td>\n",
       "      <td>0.009070</td>\n",
       "      <td>0.003334</td>\n",
       "    </tr>\n",
       "    <tr>\n",
       "      <th>3</th>\n",
       "      <td>187.0</td>\n",
       "      <td>0.104849</td>\n",
       "      <td>0.001142</td>\n",
       "      <td>12.047383</td>\n",
       "      <td>9303.917969</td>\n",
       "      <td>0.012269</td>\n",
       "      <td>0.011727</td>\n",
       "      <td>0.005491</td>\n",
       "      <td>0.010378</td>\n",
       "      <td>0.013429</td>\n",
       "    </tr>\n",
       "    <tr>\n",
       "      <th>4</th>\n",
       "      <td>187.0</td>\n",
       "      <td>0.139849</td>\n",
       "      <td>0.001129</td>\n",
       "      <td>11.980824</td>\n",
       "      <td>9252.515625</td>\n",
       "      <td>0.022799</td>\n",
       "      <td>0.011960</td>\n",
       "      <td>0.009652</td>\n",
       "      <td>0.008665</td>\n",
       "      <td>0.024243</td>\n",
       "    </tr>\n",
       "    <tr>\n",
       "      <th>5</th>\n",
       "      <td>187.0</td>\n",
       "      <td>0.174975</td>\n",
       "      <td>0.001134</td>\n",
       "      <td>12.004740</td>\n",
       "      <td>9270.985352</td>\n",
       "      <td>0.037560</td>\n",
       "      <td>0.013483</td>\n",
       "      <td>0.010872</td>\n",
       "      <td>0.006739</td>\n",
       "      <td>0.039334</td>\n",
       "    </tr>\n",
       "    <tr>\n",
       "      <th>6</th>\n",
       "      <td>187.0</td>\n",
       "      <td>0.209942</td>\n",
       "      <td>0.001083</td>\n",
       "      <td>11.731749</td>\n",
       "      <td>9060.160156</td>\n",
       "      <td>0.045024</td>\n",
       "      <td>0.012874</td>\n",
       "      <td>0.012957</td>\n",
       "      <td>0.003208</td>\n",
       "      <td>0.046719</td>\n",
       "    </tr>\n",
       "  </tbody>\n",
       "</table>\n",
       "</div>"
      ],
      "text/plain": [
       "     rpm     alpha         q          u           Re         A         N  \\\n",
       "0  187.0  0.000090  0.001109  11.875611  9171.262695 -0.000600  0.004748   \n",
       "1  187.0  0.034769  0.001127  11.970559  9244.587891 -0.006210  0.007618   \n",
       "2  187.0  0.069895  0.001124  11.951912  9230.187500  0.002692  0.009280   \n",
       "3  187.0  0.104849  0.001142  12.047383  9303.917969  0.012269  0.011727   \n",
       "4  187.0  0.139849  0.001129  11.980824  9252.515625  0.022799  0.011960   \n",
       "5  187.0  0.174975  0.001134  12.004740  9270.985352  0.037560  0.013483   \n",
       "6  187.0  0.209942  0.001083  11.731749  9060.160156  0.045024  0.012874   \n",
       "\n",
       "          M         L         D  \n",
       "0 -0.004035  0.004748 -0.000600  \n",
       "1 -0.000989  0.007829 -0.005942  \n",
       "2  0.000125  0.009070  0.003334  \n",
       "3  0.005491  0.010378  0.013429  \n",
       "4  0.009652  0.008665  0.024243  \n",
       "5  0.010872  0.006739  0.039334  \n",
       "6  0.012957  0.003208  0.046719  "
      ]
     },
     "execution_count": 4,
     "metadata": {},
     "output_type": "execute_result"
    }
   ],
   "source": [
    "df = load_data('Re_10k')\n",
    "df"
   ]
  },
  {
   "cell_type": "code",
   "execution_count": 5,
   "id": "1b376e4c",
   "metadata": {},
   "outputs": [
    {
     "data": {
      "text/plain": [
       "[<matplotlib.lines.Line2D at 0x22d506195b0>]"
      ]
     },
     "execution_count": 5,
     "metadata": {},
     "output_type": "execute_result"
    },
    {
     "data": {
      "image/png": "[encoded data removed]",
      "text/plain": [
       "<Figure size 432x288 with 1 Axes>"
      ]
     },
     "metadata": {
      "needs_background": "light"
     },
     "output_type": "display_data"
    }
   ],
   "source": [
    "plt.plot(np.degrees(df['alpha']), df['L'], '.')"
   ]
  },
  {
   "cell_type": "code",
   "execution_count": 6,
   "id": "cebc46f7",
   "metadata": {},
   "outputs": [
    {
     "data": {
      "text/plain": [
       "[<matplotlib.lines.Line2D at 0x22d50da2cd0>]"
      ]
     },
     "execution_count": 6,
     "metadata": {},
     "output_type": "execute_result"
    },
    {
     "data": {
      "image/png": "[encoded data removed]",
      "text/plain": [
       "<Figure size 432x288 with 1 Axes>"
      ]
     },
     "metadata": {
      "needs_background": "light"
     },
     "output_type": "display_data"
    }
   ],
   "source": [
    "plt.plot(np.degrees(df['alpha']), df['D'], '.')"
   ]
  },
  {
   "cell_type": "code",
   "execution_count": 7,
   "id": "43eb244c",
   "metadata": {},
   "outputs": [
    {
     "data": {
      "text/plain": [
       "[<matplotlib.lines.Line2D at 0x22d50e0fbb0>]"
      ]
     },
     "execution_count": 7,
     "metadata": {},
     "output_type": "execute_result"
    },
    {
     "data": {
      "image/png": "[encoded data removed]",
      "text/plain": [
       "<Figure size 432x288 with 1 Axes>"
      ]
     },
     "metadata": {
      "needs_background": "light"
     },
     "output_type": "display_data"
    }
   ],
   "source": [
    "plt.plot(np.degrees(df['alpha']), df['M'], '.')"
   ]
  },
  {
   "cell_type": "code",
   "execution_count": 8,
   "id": "c299dae5",
   "metadata": {},
   "outputs": [
    {
     "data": {
      "text/html": [
       "<div>\n",
       "<style scoped>\n",
       "    .dataframe tbody tr th:only-of-type {\n",
       "        vertical-align: middle;\n",
       "    }\n",
       "\n",
       "    .dataframe tbody tr th {\n",
       "        vertical-align: top;\n",
       "    }\n",
       "\n",
       "    .dataframe thead th {\n",
       "        text-align: right;\n",
       "    }\n",
       "</style>\n",
       "<table border=\"1\" class=\"dataframe\">\n",
       "  <thead>\n",
       "    <tr style=\"text-align: right;\">\n",
       "      <th></th>\n",
       "      <th>rpm</th>\n",
       "      <th>alpha</th>\n",
       "      <th>q</th>\n",
       "      <th>u</th>\n",
       "      <th>Re</th>\n",
       "      <th>A</th>\n",
       "      <th>N</th>\n",
       "      <th>M</th>\n",
       "      <th>L</th>\n",
       "      <th>D</th>\n",
       "    </tr>\n",
       "  </thead>\n",
       "  <tbody>\n",
       "    <tr>\n",
       "      <th>0</th>\n",
       "      <td>831.0</td>\n",
       "      <td>0.013693</td>\n",
       "      <td>0.028259</td>\n",
       "      <td>59.939785</td>\n",
       "      <td>46290.121094</td>\n",
       "      <td>0.002008</td>\n",
       "      <td>0.051662</td>\n",
       "      <td>0.197397</td>\n",
       "      <td>0.051630</td>\n",
       "      <td>0.002715</td>\n",
       "    </tr>\n",
       "    <tr>\n",
       "      <th>1</th>\n",
       "      <td>831.0</td>\n",
       "      <td>0.023034</td>\n",
       "      <td>0.028047</td>\n",
       "      <td>59.714558</td>\n",
       "      <td>46116.183594</td>\n",
       "      <td>0.001377</td>\n",
       "      <td>0.073185</td>\n",
       "      <td>0.304898</td>\n",
       "      <td>0.073134</td>\n",
       "      <td>0.003063</td>\n",
       "    </tr>\n",
       "    <tr>\n",
       "      <th>2</th>\n",
       "      <td>831.0</td>\n",
       "      <td>0.037941</td>\n",
       "      <td>0.027773</td>\n",
       "      <td>59.421761</td>\n",
       "      <td>45890.062500</td>\n",
       "      <td>0.000018</td>\n",
       "      <td>0.100613</td>\n",
       "      <td>0.453926</td>\n",
       "      <td>0.100540</td>\n",
       "      <td>0.003835</td>\n",
       "    </tr>\n",
       "    <tr>\n",
       "      <th>3</th>\n",
       "      <td>831.0</td>\n",
       "      <td>0.055108</td>\n",
       "      <td>0.028124</td>\n",
       "      <td>59.796371</td>\n",
       "      <td>46179.367188</td>\n",
       "      <td>0.002880</td>\n",
       "      <td>0.122008</td>\n",
       "      <td>0.573124</td>\n",
       "      <td>0.121665</td>\n",
       "      <td>0.009595</td>\n",
       "    </tr>\n",
       "    <tr>\n",
       "      <th>4</th>\n",
       "      <td>831.0</td>\n",
       "      <td>0.069918</td>\n",
       "      <td>0.027921</td>\n",
       "      <td>59.580254</td>\n",
       "      <td>46012.464844</td>\n",
       "      <td>0.011664</td>\n",
       "      <td>0.138825</td>\n",
       "      <td>0.657622</td>\n",
       "      <td>0.137671</td>\n",
       "      <td>0.021334</td>\n",
       "    </tr>\n",
       "    <tr>\n",
       "      <th>5</th>\n",
       "      <td>831.0</td>\n",
       "      <td>0.085240</td>\n",
       "      <td>0.028163</td>\n",
       "      <td>59.837593</td>\n",
       "      <td>46211.199219</td>\n",
       "      <td>0.003962</td>\n",
       "      <td>0.150503</td>\n",
       "      <td>0.724070</td>\n",
       "      <td>0.149620</td>\n",
       "      <td>0.016761</td>\n",
       "    </tr>\n",
       "    <tr>\n",
       "      <th>6</th>\n",
       "      <td>831.0</td>\n",
       "      <td>0.100852</td>\n",
       "      <td>0.027624</td>\n",
       "      <td>59.262863</td>\n",
       "      <td>45767.351562</td>\n",
       "      <td>0.006131</td>\n",
       "      <td>0.159504</td>\n",
       "      <td>0.774652</td>\n",
       "      <td>0.158076</td>\n",
       "      <td>0.022159</td>\n",
       "    </tr>\n",
       "    <tr>\n",
       "      <th>7</th>\n",
       "      <td>831.0</td>\n",
       "      <td>0.118540</td>\n",
       "      <td>0.027050</td>\n",
       "      <td>58.643627</td>\n",
       "      <td>45289.128906</td>\n",
       "      <td>0.009537</td>\n",
       "      <td>0.180617</td>\n",
       "      <td>0.886191</td>\n",
       "      <td>0.178222</td>\n",
       "      <td>0.030830</td>\n",
       "    </tr>\n",
       "    <tr>\n",
       "      <th>8</th>\n",
       "      <td>844.0</td>\n",
       "      <td>0.132870</td>\n",
       "      <td>0.027906</td>\n",
       "      <td>59.563969</td>\n",
       "      <td>45999.886719</td>\n",
       "      <td>0.017779</td>\n",
       "      <td>0.178577</td>\n",
       "      <td>0.854272</td>\n",
       "      <td>0.174647</td>\n",
       "      <td>0.041280</td>\n",
       "    </tr>\n",
       "    <tr>\n",
       "      <th>9</th>\n",
       "      <td>855.0</td>\n",
       "      <td>0.150103</td>\n",
       "      <td>0.028363</td>\n",
       "      <td>60.049843</td>\n",
       "      <td>46375.117188</td>\n",
       "      <td>0.027110</td>\n",
       "      <td>0.195354</td>\n",
       "      <td>0.920488</td>\n",
       "      <td>0.189104</td>\n",
       "      <td>0.056019</td>\n",
       "    </tr>\n",
       "    <tr>\n",
       "      <th>10</th>\n",
       "      <td>855.0</td>\n",
       "      <td>0.166036</td>\n",
       "      <td>0.029152</td>\n",
       "      <td>60.878994</td>\n",
       "      <td>47015.449219</td>\n",
       "      <td>0.043328</td>\n",
       "      <td>0.181650</td>\n",
       "      <td>0.799460</td>\n",
       "      <td>0.171991</td>\n",
       "      <td>0.072755</td>\n",
       "    </tr>\n",
       "    <tr>\n",
       "      <th>11</th>\n",
       "      <td>855.0</td>\n",
       "      <td>0.184166</td>\n",
       "      <td>0.029303</td>\n",
       "      <td>61.036812</td>\n",
       "      <td>47137.332031</td>\n",
       "      <td>0.056054</td>\n",
       "      <td>0.177522</td>\n",
       "      <td>0.763879</td>\n",
       "      <td>0.164255</td>\n",
       "      <td>0.087615</td>\n",
       "    </tr>\n",
       "    <tr>\n",
       "      <th>12</th>\n",
       "      <td>855.0</td>\n",
       "      <td>0.197869</td>\n",
       "      <td>0.029291</td>\n",
       "      <td>61.024052</td>\n",
       "      <td>47127.476562</td>\n",
       "      <td>0.061162</td>\n",
       "      <td>0.179145</td>\n",
       "      <td>0.753368</td>\n",
       "      <td>0.163626</td>\n",
       "      <td>0.095185</td>\n",
       "    </tr>\n",
       "  </tbody>\n",
       "</table>\n",
       "</div>"
      ],
      "text/plain": [
       "      rpm     alpha         q          u            Re         A         N  \\\n",
       "0   831.0  0.013693  0.028259  59.939785  46290.121094  0.002008  0.051662   \n",
       "1   831.0  0.023034  0.028047  59.714558  46116.183594  0.001377  0.073185   \n",
       "2   831.0  0.037941  0.027773  59.421761  45890.062500  0.000018  0.100613   \n",
       "3   831.0  0.055108  0.028124  59.796371  46179.367188  0.002880  0.122008   \n",
       "4   831.0  0.069918  0.027921  59.580254  46012.464844  0.011664  0.138825   \n",
       "5   831.0  0.085240  0.028163  59.837593  46211.199219  0.003962  0.150503   \n",
       "6   831.0  0.100852  0.027624  59.262863  45767.351562  0.006131  0.159504   \n",
       "7   831.0  0.118540  0.027050  58.643627  45289.128906  0.009537  0.180617   \n",
       "8   844.0  0.132870  0.027906  59.563969  45999.886719  0.017779  0.178577   \n",
       "9   855.0  0.150103  0.028363  60.049843  46375.117188  0.027110  0.195354   \n",
       "10  855.0  0.166036  0.029152  60.878994  47015.449219  0.043328  0.181650   \n",
       "11  855.0  0.184166  0.029303  61.036812  47137.332031  0.056054  0.177522   \n",
       "12  855.0  0.197869  0.029291  61.024052  47127.476562  0.061162  0.179145   \n",
       "\n",
       "           M         L         D  \n",
       "0   0.197397  0.051630  0.002715  \n",
       "1   0.304898  0.073134  0.003063  \n",
       "2   0.453926  0.100540  0.003835  \n",
       "3   0.573124  0.121665  0.009595  \n",
       "4   0.657622  0.137671  0.021334  \n",
       "5   0.724070  0.149620  0.016761  \n",
       "6   0.774652  0.158076  0.022159  \n",
       "7   0.886191  0.178222  0.030830  \n",
       "8   0.854272  0.174647  0.041280  \n",
       "9   0.920488  0.189104  0.056019  \n",
       "10  0.799460  0.171991  0.072755  \n",
       "11  0.763879  0.164255  0.087615  \n",
       "12  0.753368  0.163626  0.095185  "
      ]
     },
     "execution_count": 8,
     "metadata": {},
     "output_type": "execute_result"
    }
   ],
   "source": [
    "df = load_data('Re_50k', nrows=13)\n",
    "df"
   ]
  },
  {
   "cell_type": "code",
   "execution_count": 9,
   "id": "741eddd0",
   "metadata": {},
   "outputs": [
    {
     "data": {
      "text/plain": [
       "[<matplotlib.lines.Line2D at 0x22d50e88700>]"
      ]
     },
     "execution_count": 9,
     "metadata": {},
     "output_type": "execute_result"
    },
    {
     "data": {
      "image/png": "[encoded data removed]",
      "text/plain": [
       "<Figure size 432x288 with 1 Axes>"
      ]
     },
     "metadata": {
      "needs_background": "light"
     },
     "output_type": "display_data"
    }
   ],
   "source": [
    "plt.plot(np.degrees(df['alpha']), df['L'], '.')"
   ]
  },
  {
   "cell_type": "code",
   "execution_count": 10,
   "id": "7e3bfa81",
   "metadata": {},
   "outputs": [
    {
     "data": {
      "text/plain": [
       "[<matplotlib.lines.Line2D at 0x22d50ee3700>]"
      ]
     },
     "execution_count": 10,
     "metadata": {},
     "output_type": "execute_result"
    },
    {
     "data": {
      "image/png": "[encoded data removed]",
      "text/plain": [
       "<Figure size 432x288 with 1 Axes>"
      ]
     },
     "metadata": {
      "needs_background": "light"
     },
     "output_type": "display_data"
    }
   ],
   "source": [
    "plt.plot(np.degrees(df['alpha']), df['D'], '.')"
   ]
  },
  {
   "cell_type": "code",
   "execution_count": 11,
   "id": "c30198c7",
   "metadata": {},
   "outputs": [
    {
     "data": {
      "text/plain": [
       "[<matplotlib.lines.Line2D at 0x22d50f4a310>]"
      ]
     },
     "execution_count": 11,
     "metadata": {},
     "output_type": "execute_result"
    },
    {
     "data": {
      "image/png": "[encoded data removed]",
      "text/plain": [
       "<Figure size 432x288 with 1 Axes>"
      ]
     },
     "metadata": {
      "needs_background": "light"
     },
     "output_type": "display_data"
    }
   ],
   "source": [
    "plt.plot(np.degrees(df['alpha']), df['M'], '.')"
   ]
  },
  {
   "cell_type": "code",
   "execution_count": 12,
   "id": "67b5e46a",
   "metadata": {},
   "outputs": [
    {
     "data": {
      "text/html": [
       "<div>\n",
       "<style scoped>\n",
       "    .dataframe tbody tr th:only-of-type {\n",
       "        vertical-align: middle;\n",
       "    }\n",
       "\n",
       "    .dataframe tbody tr th {\n",
       "        vertical-align: top;\n",
       "    }\n",
       "\n",
       "    .dataframe thead th {\n",
       "        text-align: right;\n",
       "    }\n",
       "</style>\n",
       "<table border=\"1\" class=\"dataframe\">\n",
       "  <thead>\n",
       "    <tr style=\"text-align: right;\">\n",
       "      <th></th>\n",
       "      <th>rpm</th>\n",
       "      <th>alpha</th>\n",
       "      <th>q</th>\n",
       "      <th>u</th>\n",
       "      <th>Re</th>\n",
       "      <th>A</th>\n",
       "      <th>N</th>\n",
       "      <th>M</th>\n",
       "      <th>L</th>\n",
       "      <th>D</th>\n",
       "    </tr>\n",
       "  </thead>\n",
       "  <tbody>\n",
       "    <tr>\n",
       "      <th>0</th>\n",
       "      <td>1456.0</td>\n",
       "      <td>0.000200</td>\n",
       "      <td>0.093918</td>\n",
       "      <td>109.328827</td>\n",
       "      <td>84345.250000</td>\n",
       "      <td>0.057273</td>\n",
       "      <td>0.089568</td>\n",
       "      <td>0.357162</td>\n",
       "      <td>0.089556</td>\n",
       "      <td>0.057291</td>\n",
       "    </tr>\n",
       "    <tr>\n",
       "      <th>1</th>\n",
       "      <td>1456.0</td>\n",
       "      <td>0.033136</td>\n",
       "      <td>0.094354</td>\n",
       "      <td>109.582458</td>\n",
       "      <td>84540.921875</td>\n",
       "      <td>0.053222</td>\n",
       "      <td>0.316977</td>\n",
       "      <td>1.577718</td>\n",
       "      <td>0.315040</td>\n",
       "      <td>0.063694</td>\n",
       "    </tr>\n",
       "    <tr>\n",
       "      <th>2</th>\n",
       "      <td>1470.0</td>\n",
       "      <td>0.069014</td>\n",
       "      <td>0.094472</td>\n",
       "      <td>109.650856</td>\n",
       "      <td>84593.695312</td>\n",
       "      <td>0.035004</td>\n",
       "      <td>0.475643</td>\n",
       "      <td>2.424744</td>\n",
       "      <td>0.472096</td>\n",
       "      <td>0.067721</td>\n",
       "    </tr>\n",
       "    <tr>\n",
       "      <th>3</th>\n",
       "      <td>1506.0</td>\n",
       "      <td>0.106441</td>\n",
       "      <td>0.091756</td>\n",
       "      <td>108.062988</td>\n",
       "      <td>83368.679688</td>\n",
       "      <td>0.023730</td>\n",
       "      <td>0.595331</td>\n",
       "      <td>3.067959</td>\n",
       "      <td>0.589441</td>\n",
       "      <td>0.086844</td>\n",
       "    </tr>\n",
       "    <tr>\n",
       "      <th>4</th>\n",
       "      <td>1520.0</td>\n",
       "      <td>0.136041</td>\n",
       "      <td>0.093713</td>\n",
       "      <td>109.209709</td>\n",
       "      <td>84253.351562</td>\n",
       "      <td>0.028203</td>\n",
       "      <td>0.671426</td>\n",
       "      <td>3.404626</td>\n",
       "      <td>0.661397</td>\n",
       "      <td>0.119002</td>\n",
       "    </tr>\n",
       "    <tr>\n",
       "      <th>5</th>\n",
       "      <td>1520.0</td>\n",
       "      <td>0.173065</td>\n",
       "      <td>0.093646</td>\n",
       "      <td>109.170166</td>\n",
       "      <td>84222.851562</td>\n",
       "      <td>0.064648</td>\n",
       "      <td>0.697759</td>\n",
       "      <td>3.371126</td>\n",
       "      <td>0.676203</td>\n",
       "      <td>0.183838</td>\n",
       "    </tr>\n",
       "    <tr>\n",
       "      <th>6</th>\n",
       "      <td>1552.0</td>\n",
       "      <td>0.207989</td>\n",
       "      <td>0.097018</td>\n",
       "      <td>111.118744</td>\n",
       "      <td>85726.140625</td>\n",
       "      <td>0.130595</td>\n",
       "      <td>0.737705</td>\n",
       "      <td>3.413299</td>\n",
       "      <td>0.694839</td>\n",
       "      <td>0.280112</td>\n",
       "    </tr>\n",
       "    <tr>\n",
       "      <th>7</th>\n",
       "      <td>1552.0</td>\n",
       "      <td>0.244409</td>\n",
       "      <td>0.093952</td>\n",
       "      <td>109.348686</td>\n",
       "      <td>84360.570312</td>\n",
       "      <td>0.155667</td>\n",
       "      <td>0.713453</td>\n",
       "      <td>3.199936</td>\n",
       "      <td>0.654581</td>\n",
       "      <td>0.323684</td>\n",
       "    </tr>\n",
       "    <tr>\n",
       "      <th>8</th>\n",
       "      <td>1575.0</td>\n",
       "      <td>0.283173</td>\n",
       "      <td>0.094718</td>\n",
       "      <td>109.793510</td>\n",
       "      <td>84703.750000</td>\n",
       "      <td>0.161072</td>\n",
       "      <td>0.784351</td>\n",
       "      <td>3.481875</td>\n",
       "      <td>0.708110</td>\n",
       "      <td>0.373807</td>\n",
       "    </tr>\n",
       "    <tr>\n",
       "      <th>9</th>\n",
       "      <td>1575.0</td>\n",
       "      <td>0.313008</td>\n",
       "      <td>0.093950</td>\n",
       "      <td>109.347549</td>\n",
       "      <td>84359.695312</td>\n",
       "      <td>0.166323</td>\n",
       "      <td>0.855543</td>\n",
       "      <td>3.795468</td>\n",
       "      <td>0.762759</td>\n",
       "      <td>0.421682</td>\n",
       "    </tr>\n",
       "    <tr>\n",
       "      <th>10</th>\n",
       "      <td>1575.0</td>\n",
       "      <td>0.339971</td>\n",
       "      <td>0.093876</td>\n",
       "      <td>109.304497</td>\n",
       "      <td>84326.484375</td>\n",
       "      <td>0.168807</td>\n",
       "      <td>0.896979</td>\n",
       "      <td>3.989559</td>\n",
       "      <td>0.789350</td>\n",
       "      <td>0.458252</td>\n",
       "    </tr>\n",
       "    <tr>\n",
       "      <th>11</th>\n",
       "      <td>1552.0</td>\n",
       "      <td>0.228520</td>\n",
       "      <td>0.094502</td>\n",
       "      <td>109.668129</td>\n",
       "      <td>84607.015625</td>\n",
       "      <td>0.149185</td>\n",
       "      <td>0.718468</td>\n",
       "      <td>3.265075</td>\n",
       "      <td>0.665994</td>\n",
       "      <td>0.308065</td>\n",
       "    </tr>\n",
       "  </tbody>\n",
       "</table>\n",
       "</div>"
      ],
      "text/plain": [
       "       rpm     alpha         q           u            Re         A         N  \\\n",
       "0   1456.0  0.000200  0.093918  109.328827  84345.250000  0.057273  0.089568   \n",
       "1   1456.0  0.033136  0.094354  109.582458  84540.921875  0.053222  0.316977   \n",
       "2   1470.0  0.069014  0.094472  109.650856  84593.695312  0.035004  0.475643   \n",
       "3   1506.0  0.106441  0.091756  108.062988  83368.679688  0.023730  0.595331   \n",
       "4   1520.0  0.136041  0.093713  109.209709  84253.351562  0.028203  0.671426   \n",
       "5   1520.0  0.173065  0.093646  109.170166  84222.851562  0.064648  0.697759   \n",
       "6   1552.0  0.207989  0.097018  111.118744  85726.140625  0.130595  0.737705   \n",
       "7   1552.0  0.244409  0.093952  109.348686  84360.570312  0.155667  0.713453   \n",
       "8   1575.0  0.283173  0.094718  109.793510  84703.750000  0.161072  0.784351   \n",
       "9   1575.0  0.313008  0.093950  109.347549  84359.695312  0.166323  0.855543   \n",
       "10  1575.0  0.339971  0.093876  109.304497  84326.484375  0.168807  0.896979   \n",
       "11  1552.0  0.228520  0.094502  109.668129  84607.015625  0.149185  0.718468   \n",
       "\n",
       "           M         L         D  \n",
       "0   0.357162  0.089556  0.057291  \n",
       "1   1.577718  0.315040  0.063694  \n",
       "2   2.424744  0.472096  0.067721  \n",
       "3   3.067959  0.589441  0.086844  \n",
       "4   3.404626  0.661397  0.119002  \n",
       "5   3.371126  0.676203  0.183838  \n",
       "6   3.413299  0.694839  0.280112  \n",
       "7   3.199936  0.654581  0.323684  \n",
       "8   3.481875  0.708110  0.373807  \n",
       "9   3.795468  0.762759  0.421682  \n",
       "10  3.989559  0.789350  0.458252  \n",
       "11  3.265075  0.665994  0.308065  "
      ]
     },
     "execution_count": 12,
     "metadata": {},
     "output_type": "execute_result"
    }
   ],
   "source": [
    "df = load_data('Re_90k')\n",
    "df"
   ]
  },
  {
   "cell_type": "code",
   "execution_count": 13,
   "id": "19ce4783",
   "metadata": {},
   "outputs": [
    {
     "data": {
      "text/plain": [
       "[<matplotlib.lines.Line2D at 0x22d50fb2670>]"
      ]
     },
     "execution_count": 13,
     "metadata": {},
     "output_type": "execute_result"
    },
    {
     "data": {
      "image/png": "[encoded data removed]",
      "text/plain": [
       "<Figure size 432x288 with 1 Axes>"
      ]
     },
     "metadata": {
      "needs_background": "light"
     },
     "output_type": "display_data"
    }
   ],
   "source": [
    "plt.plot(np.degrees(df['alpha']), df['L'], '.')"
   ]
  },
  {
   "cell_type": "code",
   "execution_count": 14,
   "id": "87f0aac5",
   "metadata": {},
   "outputs": [
    {
     "data": {
      "text/plain": [
       "[<matplotlib.lines.Line2D at 0x22d5101eb50>]"
      ]
     },
     "execution_count": 14,
     "metadata": {},
     "output_type": "execute_result"
    },
    {
     "data": {
      "image/png": "[encoded data removed]",
      "text/plain": [
       "<Figure size 432x288 with 1 Axes>"
      ]
     },
     "metadata": {
      "needs_background": "light"
     },
     "output_type": "display_data"
    }
   ],
   "source": [
    "plt.plot(np.degrees(df['alpha']), df['D'], '.')"
   ]
  },
  {
   "cell_type": "code",
   "execution_count": 15,
   "id": "386d3cde",
   "metadata": {},
   "outputs": [
    {
     "data": {
      "text/plain": [
       "[<matplotlib.lines.Line2D at 0x22d51099610>]"
      ]
     },
     "execution_count": 15,
     "metadata": {},
     "output_type": "execute_result"
    },
    {
     "data": {
      "image/png": "[encoded data removed]",
      "text/plain": [
       "<Figure size 432x288 with 1 Axes>"
      ]
     },
     "metadata": {
      "needs_background": "light"
     },
     "output_type": "display_data"
    }
   ],
   "source": [
    "plt.plot(np.degrees(df['alpha']), df['M'], '.')"
   ]
  },
  {
   "cell_type": "code",
   "execution_count": null,
   "id": "578f7eb1",
   "metadata": {},
   "outputs": [],
   "source": []
  }
 ],
 "metadata": {
  "kernelspec": {
   "display_name": "Python 3 (ipykernel)",
   "language": "python",
   "name": "python3"
  },
  "language_info": {
   "codemirror_mode": {
    "name": "ipython",
    "version": 3
   },
   "file_extension": ".py",
   "mimetype": "text/x-python",
   "name": "python",
   "nbconvert_exporter": "python",
   "pygments_lexer": "ipython3",
   "version": "3.8.5"
  }
 },
 "nbformat": 4,
 "nbformat_minor": 5
}
